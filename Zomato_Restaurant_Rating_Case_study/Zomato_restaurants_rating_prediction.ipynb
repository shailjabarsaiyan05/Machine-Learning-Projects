{
 "cells": [
  {
   "cell_type": "markdown",
   "id": "79a44397",
   "metadata": {},
   "source": [
    "### Case Study on Zomato Restaurant Rating Prediction"
   ]
  },
  {
   "cell_type": "markdown",
   "id": "9f82d03e",
   "metadata": {},
   "source": [
    " \n",
    "### Problem Statement\n",
    "Zomato, the online food app, has reached out to help them to predict how good or bad a restaurant will turn out in the future. So that, they can take a decision to include the restaurant in their app or remove it.\n",
    "\n",
    "They have shared the data of 9551 restaurants from all over the world which are currently present in the Zomato App. It contains the details about the restaurants and what rating it achieved finally.\n",
    "\n",
    "Task is to create a machine learning model which can predict the Rating of a restaurant based on its characteristics.\n",
    "\n"
   ]
  },
  {
   "cell_type": "markdown",
   "id": "59687f99",
   "metadata": {},
   "source": [
    "### Data description\n",
    "The business meaning of each column in the data is as below\n",
    "\n",
    "1. **Restaurant ID:** The id for each restaurant\n",
    "2. **Restaurant Name:** The brand/restaurant name\n",
    "3. **Country Code:** In which country the restaurant is operating\n",
    "4. **City:** In which city the restaurant is operating\n",
    "5. **Address:** What is the address of the restaurant\n",
    "6. **Locality:** What is the locality of the restaurant\n",
    "7. **Locality Verbose:** Detailed locality description\n",
    "8. **Longitude:** GPS longitude location\n",
    "9.  **Latitude:** GPS latitude location\n",
    "10. **Cuisines:** Various type of food offered\n",
    "11. **Currency:** The business currency\n",
    "12. **Has Table booking:** Is advance table booking facility available?\n",
    "13. **Has Online delivery:** Does they take online food orders?\n",
    "14. **Is delivering now:** Is is open now?\n",
    "15. **Switch to order menu:** Whether switch to order menu is available?\n",
    "16. **Price range:** The price range of the restaurant\n",
    "17. **Votes:** The number of people who voted for the rating\n",
    "18. **Average Cost for two:** The typical cost for two people\n",
    "19. **Rating:** The final rating of the restaurant "
   ]
  },
  {
   "cell_type": "markdown",
   "id": "ff0b4549",
   "metadata": {},
   "source": [
    "### 1. Importing Libraries"
   ]
  },
  {
   "cell_type": "code",
   "execution_count": 1,
   "id": "cc7d18f7",
   "metadata": {},
   "outputs": [],
   "source": [
    "# import pandas library\n",
    "import pandas as pd\n",
    "\n",
    "# import numpy library\n",
    "import numpy as np\n",
    "\n",
    "# import seaborn library\n",
    "import seaborn as sns\n",
    "\n",
    "# import matplotlib library\n",
    "import matplotlib.pyplot as plt\n",
    "\n",
    "# import stats library\n",
    "from scipy import stats\n",
    "\n",
    "# import labelEncoder\n",
    "from sklearn.preprocessing import LabelEncoder,StandardScaler,MinMaxScaler\n",
    "\n",
    "# import train test split\n",
    "from sklearn.model_selection import train_test_split\n",
    "\n",
    "import statsmodels.api as sm \n",
    "from scipy.stats import f_oneway\n",
    "\n",
    "# import crossval\n",
    "from sklearn.model_selection import cross_val_score\n",
    "\n",
    "# importing libraries to calculte errors of the model\n",
    "from sklearn.metrics import mean_squared_error,mean_absolute_error,mean_absolute_percentage_error\n",
    "from sklearn.preprocessing import PowerTransformer\n",
    "\n",
    "\n",
    "from sklearn.linear_model import LinearRegression\n",
    "from sklearn.neighbors import KNeighborsRegressor\n",
    "from sklearn.tree import DecisionTreeRegressor\n",
    "from sklearn.ensemble import RandomForestRegressor,AdaBoostRegressor\n",
    "from xgboost import XGBRegressor\n",
    "\n",
    "\n",
    "\n",
    "from sklearn import metrics\n",
    "# # import warning library to suppress warnings\n",
    "from warnings import filterwarnings\n",
    "filterwarnings('ignore')\n",
    "\n"
   ]
  },
  {
   "cell_type": "code",
   "execution_count": 2,
   "id": "7e2219f7",
   "metadata": {},
   "outputs": [],
   "source": [
    "pd.set_option('display.max_columns',None)\n"
   ]
  },
  {
   "cell_type": "markdown",
   "id": "139ba48b",
   "metadata": {},
   "source": [
    "### 2. Reading the dataset"
   ]
  },
  {
   "cell_type": "code",
   "execution_count": 3,
   "id": "b760b058",
   "metadata": {},
   "outputs": [],
   "source": [
    "zomato_data = pd.read_csv('ZomatoData.csv',encoding='latin')"
   ]
  },
  {
   "cell_type": "code",
   "execution_count": 4,
   "id": "d176d252",
   "metadata": {},
   "outputs": [
    {
     "data": {
      "text/html": [
       "<div>\n",
       "<style scoped>\n",
       "    .dataframe tbody tr th:only-of-type {\n",
       "        vertical-align: middle;\n",
       "    }\n",
       "\n",
       "    .dataframe tbody tr th {\n",
       "        vertical-align: top;\n",
       "    }\n",
       "\n",
       "    .dataframe thead th {\n",
       "        text-align: right;\n",
       "    }\n",
       "</style>\n",
       "<table border=\"1\" class=\"dataframe\">\n",
       "  <thead>\n",
       "    <tr style=\"text-align: right;\">\n",
       "      <th></th>\n",
       "      <th>Restaurant ID</th>\n",
       "      <th>Restaurant Name</th>\n",
       "      <th>Country Code</th>\n",
       "      <th>City</th>\n",
       "      <th>Address</th>\n",
       "      <th>Locality</th>\n",
       "      <th>Locality Verbose</th>\n",
       "      <th>Longitude</th>\n",
       "      <th>Latitude</th>\n",
       "      <th>Cuisines</th>\n",
       "      <th>Currency</th>\n",
       "      <th>Has Table booking</th>\n",
       "      <th>Has Online delivery</th>\n",
       "      <th>Is delivering now</th>\n",
       "      <th>Switch to order menu</th>\n",
       "      <th>Price range</th>\n",
       "      <th>Votes</th>\n",
       "      <th>Average Cost for two</th>\n",
       "      <th>Rating</th>\n",
       "    </tr>\n",
       "  </thead>\n",
       "  <tbody>\n",
       "    <tr>\n",
       "      <th>0</th>\n",
       "      <td>6317637</td>\n",
       "      <td>Le Petit Souffle</td>\n",
       "      <td>162</td>\n",
       "      <td>Makati City</td>\n",
       "      <td>Third Floor, Century City Mall, Kalayaan Avenu...</td>\n",
       "      <td>Century City Mall, Poblacion, Makati City</td>\n",
       "      <td>Century City Mall, Poblacion, Makati City, Mak...</td>\n",
       "      <td>121.027535</td>\n",
       "      <td>14.565443</td>\n",
       "      <td>French, Japanese, Desserts</td>\n",
       "      <td>Botswana Pula(P)</td>\n",
       "      <td>Yes</td>\n",
       "      <td>No</td>\n",
       "      <td>No</td>\n",
       "      <td>No</td>\n",
       "      <td>3</td>\n",
       "      <td>314</td>\n",
       "      <td>1100</td>\n",
       "      <td>4.8</td>\n",
       "    </tr>\n",
       "    <tr>\n",
       "      <th>1</th>\n",
       "      <td>6304287</td>\n",
       "      <td>Izakaya Kikufuji</td>\n",
       "      <td>162</td>\n",
       "      <td>Makati City</td>\n",
       "      <td>Little Tokyo, 2277 Chino Roces Avenue, Legaspi...</td>\n",
       "      <td>Little Tokyo, Legaspi Village, Makati City</td>\n",
       "      <td>Little Tokyo, Legaspi Village, Makati City, Ma...</td>\n",
       "      <td>121.014101</td>\n",
       "      <td>14.553708</td>\n",
       "      <td>Japanese</td>\n",
       "      <td>Botswana Pula(P)</td>\n",
       "      <td>Yes</td>\n",
       "      <td>No</td>\n",
       "      <td>No</td>\n",
       "      <td>No</td>\n",
       "      <td>3</td>\n",
       "      <td>591</td>\n",
       "      <td>1200</td>\n",
       "      <td>4.5</td>\n",
       "    </tr>\n",
       "    <tr>\n",
       "      <th>2</th>\n",
       "      <td>6300002</td>\n",
       "      <td>Heat - Edsa Shangri-La</td>\n",
       "      <td>162</td>\n",
       "      <td>Mandaluyong City</td>\n",
       "      <td>Edsa Shangri-La, 1 Garden Way, Ortigas, Mandal...</td>\n",
       "      <td>Edsa Shangri-La, Ortigas, Mandaluyong City</td>\n",
       "      <td>Edsa Shangri-La, Ortigas, Mandaluyong City, Ma...</td>\n",
       "      <td>121.056831</td>\n",
       "      <td>14.581404</td>\n",
       "      <td>Seafood, Asian, Filipino, Indian</td>\n",
       "      <td>Botswana Pula(P)</td>\n",
       "      <td>Yes</td>\n",
       "      <td>No</td>\n",
       "      <td>No</td>\n",
       "      <td>No</td>\n",
       "      <td>4</td>\n",
       "      <td>270</td>\n",
       "      <td>4000</td>\n",
       "      <td>4.4</td>\n",
       "    </tr>\n",
       "    <tr>\n",
       "      <th>3</th>\n",
       "      <td>6318506</td>\n",
       "      <td>Ooma</td>\n",
       "      <td>162</td>\n",
       "      <td>Mandaluyong City</td>\n",
       "      <td>Third Floor, Mega Fashion Hall, SM Megamall, O...</td>\n",
       "      <td>SM Megamall, Ortigas, Mandaluyong City</td>\n",
       "      <td>SM Megamall, Ortigas, Mandaluyong City, Mandal...</td>\n",
       "      <td>121.056475</td>\n",
       "      <td>14.585318</td>\n",
       "      <td>Japanese, Sushi</td>\n",
       "      <td>Botswana Pula(P)</td>\n",
       "      <td>No</td>\n",
       "      <td>No</td>\n",
       "      <td>No</td>\n",
       "      <td>No</td>\n",
       "      <td>4</td>\n",
       "      <td>365</td>\n",
       "      <td>1500</td>\n",
       "      <td>4.9</td>\n",
       "    </tr>\n",
       "    <tr>\n",
       "      <th>4</th>\n",
       "      <td>6314302</td>\n",
       "      <td>Sambo Kojin</td>\n",
       "      <td>162</td>\n",
       "      <td>Mandaluyong City</td>\n",
       "      <td>Third Floor, Mega Atrium, SM Megamall, Ortigas...</td>\n",
       "      <td>SM Megamall, Ortigas, Mandaluyong City</td>\n",
       "      <td>SM Megamall, Ortigas, Mandaluyong City, Mandal...</td>\n",
       "      <td>121.057508</td>\n",
       "      <td>14.584450</td>\n",
       "      <td>Japanese, Korean</td>\n",
       "      <td>Botswana Pula(P)</td>\n",
       "      <td>Yes</td>\n",
       "      <td>No</td>\n",
       "      <td>No</td>\n",
       "      <td>No</td>\n",
       "      <td>4</td>\n",
       "      <td>229</td>\n",
       "      <td>1500</td>\n",
       "      <td>4.8</td>\n",
       "    </tr>\n",
       "  </tbody>\n",
       "</table>\n",
       "</div>"
      ],
      "text/plain": [
       "   Restaurant ID         Restaurant Name  Country Code              City  \\\n",
       "0        6317637        Le Petit Souffle           162       Makati City   \n",
       "1        6304287        Izakaya Kikufuji           162       Makati City   \n",
       "2        6300002  Heat - Edsa Shangri-La           162  Mandaluyong City   \n",
       "3        6318506                    Ooma           162  Mandaluyong City   \n",
       "4        6314302             Sambo Kojin           162  Mandaluyong City   \n",
       "\n",
       "                                             Address  \\\n",
       "0  Third Floor, Century City Mall, Kalayaan Avenu...   \n",
       "1  Little Tokyo, 2277 Chino Roces Avenue, Legaspi...   \n",
       "2  Edsa Shangri-La, 1 Garden Way, Ortigas, Mandal...   \n",
       "3  Third Floor, Mega Fashion Hall, SM Megamall, O...   \n",
       "4  Third Floor, Mega Atrium, SM Megamall, Ortigas...   \n",
       "\n",
       "                                     Locality  \\\n",
       "0   Century City Mall, Poblacion, Makati City   \n",
       "1  Little Tokyo, Legaspi Village, Makati City   \n",
       "2  Edsa Shangri-La, Ortigas, Mandaluyong City   \n",
       "3      SM Megamall, Ortigas, Mandaluyong City   \n",
       "4      SM Megamall, Ortigas, Mandaluyong City   \n",
       "\n",
       "                                    Locality Verbose   Longitude   Latitude  \\\n",
       "0  Century City Mall, Poblacion, Makati City, Mak...  121.027535  14.565443   \n",
       "1  Little Tokyo, Legaspi Village, Makati City, Ma...  121.014101  14.553708   \n",
       "2  Edsa Shangri-La, Ortigas, Mandaluyong City, Ma...  121.056831  14.581404   \n",
       "3  SM Megamall, Ortigas, Mandaluyong City, Mandal...  121.056475  14.585318   \n",
       "4  SM Megamall, Ortigas, Mandaluyong City, Mandal...  121.057508  14.584450   \n",
       "\n",
       "                           Cuisines          Currency Has Table booking  \\\n",
       "0        French, Japanese, Desserts  Botswana Pula(P)               Yes   \n",
       "1                          Japanese  Botswana Pula(P)               Yes   \n",
       "2  Seafood, Asian, Filipino, Indian  Botswana Pula(P)               Yes   \n",
       "3                   Japanese, Sushi  Botswana Pula(P)                No   \n",
       "4                  Japanese, Korean  Botswana Pula(P)               Yes   \n",
       "\n",
       "  Has Online delivery Is delivering now Switch to order menu  Price range  \\\n",
       "0                  No                No                   No            3   \n",
       "1                  No                No                   No            3   \n",
       "2                  No                No                   No            4   \n",
       "3                  No                No                   No            4   \n",
       "4                  No                No                   No            4   \n",
       "\n",
       "   Votes  Average Cost for two  Rating  \n",
       "0    314                  1100     4.8  \n",
       "1    591                  1200     4.5  \n",
       "2    270                  4000     4.4  \n",
       "3    365                  1500     4.9  \n",
       "4    229                  1500     4.8  "
      ]
     },
     "execution_count": 4,
     "metadata": {},
     "output_type": "execute_result"
    }
   ],
   "source": [
    "zomato_data.head()"
   ]
  },
  {
   "cell_type": "markdown",
   "id": "e8a123a6",
   "metadata": {},
   "source": [
    "### 3. Defining the Target variable and determining the approach for Machine Learning\n",
    "To create a predictive model which can predict the future Rating of a restaurant\n",
    "\n",
    "Target Variable: Rating\n",
    "\n",
    "Predictors: location, menu, cost etc.\n",
    "\n",
    "\n",
    "\n",
    "Rating=1 Worst\n",
    "\n",
    "Rating=5 Best\n",
    "\n",
    "Based on the problem statement you can understand that we need to create a **supervised ML Regression model**, as the target variable is Continuous."
   ]
  },
  {
   "cell_type": "markdown",
   "id": "f749ba2f",
   "metadata": {},
   "source": [
    "### 4. Basic EDA"
   ]
  },
  {
   "cell_type": "markdown",
   "id": "1107ec1b",
   "metadata": {},
   "source": [
    "#### Checking for shape"
   ]
  },
  {
   "cell_type": "code",
   "execution_count": 5,
   "id": "c5283ca4",
   "metadata": {},
   "outputs": [
    {
     "data": {
      "text/plain": [
       "(9551, 19)"
      ]
     },
     "execution_count": 5,
     "metadata": {},
     "output_type": "execute_result"
    }
   ],
   "source": [
    "zomato_data.shape"
   ]
  },
  {
   "cell_type": "markdown",
   "id": "1123cb32",
   "metadata": {},
   "source": [
    "**Inference: There are total 9551 rows and 19 columns.**"
   ]
  },
  {
   "cell_type": "markdown",
   "id": "27b8935e",
   "metadata": {},
   "source": [
    "#### Dropping duplicates"
   ]
  },
  {
   "cell_type": "code",
   "execution_count": 6,
   "id": "d7cfeb0a",
   "metadata": {},
   "outputs": [
    {
     "data": {
      "text/plain": [
       "0"
      ]
     },
     "execution_count": 6,
     "metadata": {},
     "output_type": "execute_result"
    }
   ],
   "source": [
    "zomato_data.duplicated().sum()"
   ]
  },
  {
   "cell_type": "markdown",
   "id": "5fd9eaa0",
   "metadata": {},
   "source": [
    "**Inference: There are no duplicated records to drop moving on for further anlaysis.**"
   ]
  },
  {
   "cell_type": "markdown",
   "id": "21a4baf4",
   "metadata": {},
   "source": [
    "#### Checking for summary"
   ]
  },
  {
   "cell_type": "code",
   "execution_count": 7,
   "id": "223492fe",
   "metadata": {},
   "outputs": [
    {
     "name": "stdout",
     "output_type": "stream",
     "text": [
      "<class 'pandas.core.frame.DataFrame'>\n",
      "RangeIndex: 9551 entries, 0 to 9550\n",
      "Data columns (total 19 columns):\n",
      " #   Column                Non-Null Count  Dtype  \n",
      "---  ------                --------------  -----  \n",
      " 0   Restaurant ID         9551 non-null   int64  \n",
      " 1   Restaurant Name       9551 non-null   object \n",
      " 2   Country Code          9551 non-null   int64  \n",
      " 3   City                  9551 non-null   object \n",
      " 4   Address               9551 non-null   object \n",
      " 5   Locality              9551 non-null   object \n",
      " 6   Locality Verbose      9551 non-null   object \n",
      " 7   Longitude             9551 non-null   float64\n",
      " 8   Latitude              9551 non-null   float64\n",
      " 9   Cuisines              9542 non-null   object \n",
      " 10  Currency              9551 non-null   object \n",
      " 11  Has Table booking     9551 non-null   object \n",
      " 12  Has Online delivery   9551 non-null   object \n",
      " 13  Is delivering now     9551 non-null   object \n",
      " 14  Switch to order menu  9551 non-null   object \n",
      " 15  Price range           9551 non-null   int64  \n",
      " 16  Votes                 9551 non-null   int64  \n",
      " 17  Average Cost for two  9551 non-null   int64  \n",
      " 18  Rating                9551 non-null   float64\n",
      "dtypes: float64(3), int64(5), object(11)\n",
      "memory usage: 1.4+ MB\n"
     ]
    }
   ],
   "source": [
    "zomato_data.info()"
   ]
  },
  {
   "cell_type": "markdown",
   "id": "8d41d0cf",
   "metadata": {},
   "source": [
    " **Inference: There are total 11 object type columns and 8 numeric columns.**"
   ]
  },
  {
   "cell_type": "markdown",
   "id": "b659b212",
   "metadata": {},
   "source": [
    "#### Checking for describe"
   ]
  },
  {
   "cell_type": "code",
   "execution_count": 8,
   "id": "a084dadb",
   "metadata": {},
   "outputs": [
    {
     "data": {
      "text/html": [
       "<div>\n",
       "<style scoped>\n",
       "    .dataframe tbody tr th:only-of-type {\n",
       "        vertical-align: middle;\n",
       "    }\n",
       "\n",
       "    .dataframe tbody tr th {\n",
       "        vertical-align: top;\n",
       "    }\n",
       "\n",
       "    .dataframe thead th {\n",
       "        text-align: right;\n",
       "    }\n",
       "</style>\n",
       "<table border=\"1\" class=\"dataframe\">\n",
       "  <thead>\n",
       "    <tr style=\"text-align: right;\">\n",
       "      <th></th>\n",
       "      <th>Restaurant ID</th>\n",
       "      <th>Country Code</th>\n",
       "      <th>Longitude</th>\n",
       "      <th>Latitude</th>\n",
       "      <th>Price range</th>\n",
       "      <th>Votes</th>\n",
       "      <th>Average Cost for two</th>\n",
       "      <th>Rating</th>\n",
       "    </tr>\n",
       "  </thead>\n",
       "  <tbody>\n",
       "    <tr>\n",
       "      <th>count</th>\n",
       "      <td>9.551000e+03</td>\n",
       "      <td>9551.000000</td>\n",
       "      <td>9551.000000</td>\n",
       "      <td>9551.000000</td>\n",
       "      <td>9551.000000</td>\n",
       "      <td>9551.000000</td>\n",
       "      <td>9551.000000</td>\n",
       "      <td>9551.000000</td>\n",
       "    </tr>\n",
       "    <tr>\n",
       "      <th>mean</th>\n",
       "      <td>9.051128e+06</td>\n",
       "      <td>18.365616</td>\n",
       "      <td>64.126574</td>\n",
       "      <td>25.854381</td>\n",
       "      <td>1.804837</td>\n",
       "      <td>156.909748</td>\n",
       "      <td>1199.210763</td>\n",
       "      <td>2.891268</td>\n",
       "    </tr>\n",
       "    <tr>\n",
       "      <th>std</th>\n",
       "      <td>8.791521e+06</td>\n",
       "      <td>56.750546</td>\n",
       "      <td>41.467058</td>\n",
       "      <td>11.007935</td>\n",
       "      <td>0.905609</td>\n",
       "      <td>430.169145</td>\n",
       "      <td>16121.183073</td>\n",
       "      <td>1.128845</td>\n",
       "    </tr>\n",
       "    <tr>\n",
       "      <th>min</th>\n",
       "      <td>5.300000e+01</td>\n",
       "      <td>1.000000</td>\n",
       "      <td>-157.948486</td>\n",
       "      <td>-41.330428</td>\n",
       "      <td>1.000000</td>\n",
       "      <td>0.000000</td>\n",
       "      <td>0.000000</td>\n",
       "      <td>1.000000</td>\n",
       "    </tr>\n",
       "    <tr>\n",
       "      <th>25%</th>\n",
       "      <td>3.019625e+05</td>\n",
       "      <td>1.000000</td>\n",
       "      <td>77.081343</td>\n",
       "      <td>28.478713</td>\n",
       "      <td>1.000000</td>\n",
       "      <td>5.000000</td>\n",
       "      <td>250.000000</td>\n",
       "      <td>2.500000</td>\n",
       "    </tr>\n",
       "    <tr>\n",
       "      <th>50%</th>\n",
       "      <td>6.004089e+06</td>\n",
       "      <td>1.000000</td>\n",
       "      <td>77.191964</td>\n",
       "      <td>28.570469</td>\n",
       "      <td>2.000000</td>\n",
       "      <td>31.000000</td>\n",
       "      <td>400.000000</td>\n",
       "      <td>3.200000</td>\n",
       "    </tr>\n",
       "    <tr>\n",
       "      <th>75%</th>\n",
       "      <td>1.835229e+07</td>\n",
       "      <td>1.000000</td>\n",
       "      <td>77.282006</td>\n",
       "      <td>28.642758</td>\n",
       "      <td>2.000000</td>\n",
       "      <td>131.000000</td>\n",
       "      <td>700.000000</td>\n",
       "      <td>3.700000</td>\n",
       "    </tr>\n",
       "    <tr>\n",
       "      <th>max</th>\n",
       "      <td>1.850065e+07</td>\n",
       "      <td>216.000000</td>\n",
       "      <td>174.832089</td>\n",
       "      <td>55.976980</td>\n",
       "      <td>4.000000</td>\n",
       "      <td>10934.000000</td>\n",
       "      <td>800000.000000</td>\n",
       "      <td>4.900000</td>\n",
       "    </tr>\n",
       "  </tbody>\n",
       "</table>\n",
       "</div>"
      ],
      "text/plain": [
       "       Restaurant ID  Country Code    Longitude     Latitude  Price range  \\\n",
       "count   9.551000e+03   9551.000000  9551.000000  9551.000000  9551.000000   \n",
       "mean    9.051128e+06     18.365616    64.126574    25.854381     1.804837   \n",
       "std     8.791521e+06     56.750546    41.467058    11.007935     0.905609   \n",
       "min     5.300000e+01      1.000000  -157.948486   -41.330428     1.000000   \n",
       "25%     3.019625e+05      1.000000    77.081343    28.478713     1.000000   \n",
       "50%     6.004089e+06      1.000000    77.191964    28.570469     2.000000   \n",
       "75%     1.835229e+07      1.000000    77.282006    28.642758     2.000000   \n",
       "max     1.850065e+07    216.000000   174.832089    55.976980     4.000000   \n",
       "\n",
       "              Votes  Average Cost for two       Rating  \n",
       "count   9551.000000           9551.000000  9551.000000  \n",
       "mean     156.909748           1199.210763     2.891268  \n",
       "std      430.169145          16121.183073     1.128845  \n",
       "min        0.000000              0.000000     1.000000  \n",
       "25%        5.000000            250.000000     2.500000  \n",
       "50%       31.000000            400.000000     3.200000  \n",
       "75%      131.000000            700.000000     3.700000  \n",
       "max    10934.000000         800000.000000     4.900000  "
      ]
     },
     "execution_count": 8,
     "metadata": {},
     "output_type": "execute_result"
    }
   ],
   "source": [
    "zomato_data.describe()"
   ]
  },
  {
   "cell_type": "code",
   "execution_count": 9,
   "id": "f89cfbd3",
   "metadata": {
    "scrolled": false
   },
   "outputs": [
    {
     "data": {
      "text/html": [
       "<div>\n",
       "<style scoped>\n",
       "    .dataframe tbody tr th:only-of-type {\n",
       "        vertical-align: middle;\n",
       "    }\n",
       "\n",
       "    .dataframe tbody tr th {\n",
       "        vertical-align: top;\n",
       "    }\n",
       "\n",
       "    .dataframe thead th {\n",
       "        text-align: right;\n",
       "    }\n",
       "</style>\n",
       "<table border=\"1\" class=\"dataframe\">\n",
       "  <thead>\n",
       "    <tr style=\"text-align: right;\">\n",
       "      <th></th>\n",
       "      <th>Restaurant Name</th>\n",
       "      <th>City</th>\n",
       "      <th>Address</th>\n",
       "      <th>Locality</th>\n",
       "      <th>Locality Verbose</th>\n",
       "      <th>Cuisines</th>\n",
       "      <th>Currency</th>\n",
       "      <th>Has Table booking</th>\n",
       "      <th>Has Online delivery</th>\n",
       "      <th>Is delivering now</th>\n",
       "      <th>Switch to order menu</th>\n",
       "    </tr>\n",
       "  </thead>\n",
       "  <tbody>\n",
       "    <tr>\n",
       "      <th>count</th>\n",
       "      <td>9551</td>\n",
       "      <td>9551</td>\n",
       "      <td>9551</td>\n",
       "      <td>9551</td>\n",
       "      <td>9551</td>\n",
       "      <td>9542</td>\n",
       "      <td>9551</td>\n",
       "      <td>9551</td>\n",
       "      <td>9551</td>\n",
       "      <td>9551</td>\n",
       "      <td>9551</td>\n",
       "    </tr>\n",
       "    <tr>\n",
       "      <th>unique</th>\n",
       "      <td>7446</td>\n",
       "      <td>141</td>\n",
       "      <td>8918</td>\n",
       "      <td>1208</td>\n",
       "      <td>1265</td>\n",
       "      <td>1825</td>\n",
       "      <td>12</td>\n",
       "      <td>2</td>\n",
       "      <td>2</td>\n",
       "      <td>2</td>\n",
       "      <td>1</td>\n",
       "    </tr>\n",
       "    <tr>\n",
       "      <th>top</th>\n",
       "      <td>Cafe Coffee Day</td>\n",
       "      <td>New Delhi</td>\n",
       "      <td>Dilli Haat, INA, New Delhi</td>\n",
       "      <td>Connaught Place</td>\n",
       "      <td>Connaught Place, New Delhi</td>\n",
       "      <td>North Indian</td>\n",
       "      <td>Indian Rupees(Rs.)</td>\n",
       "      <td>No</td>\n",
       "      <td>No</td>\n",
       "      <td>No</td>\n",
       "      <td>No</td>\n",
       "    </tr>\n",
       "    <tr>\n",
       "      <th>freq</th>\n",
       "      <td>83</td>\n",
       "      <td>5473</td>\n",
       "      <td>11</td>\n",
       "      <td>122</td>\n",
       "      <td>122</td>\n",
       "      <td>936</td>\n",
       "      <td>8652</td>\n",
       "      <td>8393</td>\n",
       "      <td>7100</td>\n",
       "      <td>9517</td>\n",
       "      <td>9551</td>\n",
       "    </tr>\n",
       "  </tbody>\n",
       "</table>\n",
       "</div>"
      ],
      "text/plain": [
       "        Restaurant Name       City                     Address  \\\n",
       "count              9551       9551                        9551   \n",
       "unique             7446        141                        8918   \n",
       "top     Cafe Coffee Day  New Delhi  Dilli Haat, INA, New Delhi   \n",
       "freq                 83       5473                          11   \n",
       "\n",
       "               Locality            Locality Verbose      Cuisines  \\\n",
       "count              9551                        9551          9542   \n",
       "unique             1208                        1265          1825   \n",
       "top     Connaught Place  Connaught Place, New Delhi  North Indian   \n",
       "freq                122                         122           936   \n",
       "\n",
       "                  Currency Has Table booking Has Online delivery  \\\n",
       "count                 9551              9551                9551   \n",
       "unique                  12                 2                   2   \n",
       "top     Indian Rupees(Rs.)                No                  No   \n",
       "freq                  8652              8393                7100   \n",
       "\n",
       "       Is delivering now Switch to order menu  \n",
       "count               9551                 9551  \n",
       "unique                 2                    1  \n",
       "top                   No                   No  \n",
       "freq                9517                 9551  "
      ]
     },
     "execution_count": 9,
     "metadata": {},
     "output_type": "execute_result"
    }
   ],
   "source": [
    "zomato_data.describe(include=object)"
   ]
  },
  {
   "cell_type": "markdown",
   "id": "2d56a5d2",
   "metadata": {},
   "source": [
    "#### Checking for nnumber of uniques in each features"
   ]
  },
  {
   "cell_type": "code",
   "execution_count": 10,
   "id": "4322bccc",
   "metadata": {},
   "outputs": [
    {
     "data": {
      "text/plain": [
       "Restaurant ID           9551\n",
       "Restaurant Name         7446\n",
       "Country Code              15\n",
       "City                     141\n",
       "Address                 8918\n",
       "Locality                1208\n",
       "Locality Verbose        1265\n",
       "Longitude               8120\n",
       "Latitude                8677\n",
       "Cuisines                1825\n",
       "Currency                  12\n",
       "Has Table booking          2\n",
       "Has Online delivery        2\n",
       "Is delivering now          2\n",
       "Switch to order menu       1\n",
       "Price range                4\n",
       "Votes                   1012\n",
       "Average Cost for two     140\n",
       "Rating                    33\n",
       "dtype: int64"
      ]
     },
     "execution_count": 10,
     "metadata": {},
     "output_type": "execute_result"
    }
   ],
   "source": [
    "zomato_data.nunique()"
   ]
  },
  {
   "cell_type": "markdown",
   "id": "659f7163",
   "metadata": {},
   "source": [
    "**Inference:**\n",
    "**From above analysis we can drop some of the columns like 'Restaurant ID', 'Restaurant Name', 'City', 'Address','Locality', 'Locality Verbose'  as they are not signnificant to keep.**\n",
    "\n",
    "**Will remove these features in the upcoming steps.**\n",
    "\n"
   ]
  },
  {
   "cell_type": "markdown",
   "id": "62854688",
   "metadata": {},
   "source": [
    "### 5. Feature Engineering"
   ]
  },
  {
   "cell_type": "markdown",
   "id": "76e4104b",
   "metadata": {},
   "source": [
    "**In this data the \"Cuisines\" column cannot be used directly because it will increase the dimensions upto 185. Hence, we can count the number of cuisines offered, which can be a number, hence it can be used in ML.**"
   ]
  },
  {
   "cell_type": "code",
   "execution_count": 11,
   "id": "2dd0df99",
   "metadata": {},
   "outputs": [],
   "source": [
    "zomato_data['Cuisine_count'] = zomato_data['Cuisines'].apply(lambda x : len(str(x).split(',')))"
   ]
  },
  {
   "cell_type": "markdown",
   "id": "37198a14",
   "metadata": {},
   "source": [
    "#### Removing unnecessary columns"
   ]
  },
  {
   "cell_type": "code",
   "execution_count": 12,
   "id": "df2237ff",
   "metadata": {},
   "outputs": [],
   "source": [
    "# Deleting the columns which are not useful in bulding the model as they are qualitative in nature.\n",
    "cols = ['Restaurant ID', 'Restaurant Name','City','Address',\n",
    "                  'Locality', 'Locality Verbose','Cuisines']\n",
    "zomato_data.drop(cols,axis=1,inplace=True)"
   ]
  },
  {
   "cell_type": "markdown",
   "id": "fe191675",
   "metadata": {},
   "source": [
    "### 6. Visualization"
   ]
  },
  {
   "cell_type": "code",
   "execution_count": 13,
   "id": "35fcb4f9",
   "metadata": {},
   "outputs": [],
   "source": [
    "cat_cols = ['Country Code','Currency','Has Table booking', 'Has Online delivery',\n",
    "       'Is delivering now', 'Switch to order menu', 'Price range','Cuisine_count']"
   ]
  },
  {
   "cell_type": "code",
   "execution_count": 14,
   "id": "121cf3e0",
   "metadata": {},
   "outputs": [
    {
     "data": {
      "image/png": "[encoded data removed]",
      "text/plain": [
       "<Figure size 1080x792 with 8 Axes>"
      ]
     },
     "metadata": {
      "needs_background": "light"
     },
     "output_type": "display_data"
    }
   ],
   "source": [
    "plt.figure(figsize =(15,11))\n",
    "index = 1\n",
    "for i in cat_cols:\n",
    "    plt.subplot(2,4,index)\n",
    "    sns.countplot(zomato_data[i])\n",
    "    plt.xticks(rotation =90)\n",
    "    index += 1\n",
    "plt.tight_layout()\n",
    "plt.show()\n",
    "    \n",
    "    \n"
   ]
  },
  {
   "cell_type": "markdown",
   "id": "2b5a2d34",
   "metadata": {},
   "source": [
    "**Inference:** \n",
    "\n",
    "From the above graph we found out`'Country Code','Currency','Is delivering now', 'Switch to order menu'` is not adding any value for building the model as they consists almost one dominating value in most of the observation, and can be removed."
   ]
  },
  {
   "cell_type": "markdown",
   "id": "23a42928",
   "metadata": {},
   "source": [
    "### b. Univariate - Numerical"
   ]
  },
  {
   "cell_type": "code",
   "execution_count": 15,
   "id": "8d27c519",
   "metadata": {
    "scrolled": true
   },
   "outputs": [
    {
     "data": {
      "text/plain": [
       "Index(['Country Code', 'Longitude', 'Latitude', 'Currency',\n",
       "       'Has Table booking', 'Has Online delivery', 'Is delivering now',\n",
       "       'Switch to order menu', 'Price range', 'Votes', 'Average Cost for two',\n",
       "       'Rating', 'Cuisine_count'],\n",
       "      dtype='object')"
      ]
     },
     "execution_count": 15,
     "metadata": {},
     "output_type": "execute_result"
    }
   ],
   "source": [
    "zomato_data.columns"
   ]
  },
  {
   "cell_type": "code",
   "execution_count": 16,
   "id": "04d4b576",
   "metadata": {},
   "outputs": [
    {
     "data": {
      "image/png": "[encoded data removed]",
      "text/plain": [
       "<Figure size 1080x576 with 4 Axes>"
      ]
     },
     "metadata": {
      "needs_background": "light"
     },
     "output_type": "display_data"
    }
   ],
   "source": [
    "plt.figure(figsize =(15,8))\n",
    "index = 1\n",
    "for i in ['Longitude', 'Latitude','Votes','Average Cost for two']:\n",
    "    plt.subplot(2,2,index)\n",
    "    sns.distplot(zomato_data[i],kde=True,kde_kws={'color':'black'})\n",
    "    plt.xticks(rotation =90)\n",
    "    index += 1\n",
    "plt.tight_layout()\n",
    "plt.show()\n",
    "    \n",
    "    "
   ]
  },
  {
   "cell_type": "markdown",
   "id": "e857a692",
   "metadata": {},
   "source": [
    "**Inference:**\n",
    "Can see`Votes` and `Average Cost for two` column consists outliers and need treatment which will be performed in futher steps."
   ]
  },
  {
   "cell_type": "markdown",
   "id": "aa1eb0d0",
   "metadata": {},
   "source": [
    "### c. Bivariate - Categorical vs Target Variable"
   ]
  },
  {
   "cell_type": "code",
   "execution_count": 17,
   "id": "8fead069",
   "metadata": {},
   "outputs": [
    {
     "data": {
      "image/png": "[encoded data removed]",
      "text/plain": [
       "<Figure size 1080x576 with 4 Axes>"
      ]
     },
     "metadata": {
      "needs_background": "light"
     },
     "output_type": "display_data"
    }
   ],
   "source": [
    "plt.figure(figsize =(15,8))\n",
    "index = 1\n",
    "for i in ['Has Table booking', 'Has Online delivery','Price range','Cuisine_count']:\n",
    "    plt.subplot(2,2,index)\n",
    "    sns.boxplot(zomato_data[i],zomato_data['Rating'])\n",
    "    index += 1\n",
    "    \n",
    "plt.tight_layout()\n",
    "plt.show()\n",
    "    "
   ]
  },
  {
   "cell_type": "markdown",
   "id": "911df705",
   "metadata": {},
   "source": [
    "### d. Bivariate - Numerical vs Target Variable"
   ]
  },
  {
   "cell_type": "code",
   "execution_count": 18,
   "id": "eff9198b",
   "metadata": {},
   "outputs": [
    {
     "data": {
      "image/png": "[encoded data removed]",
      "text/plain": [
       "<Figure size 1080x576 with 4 Axes>"
      ]
     },
     "metadata": {
      "needs_background": "light"
     },
     "output_type": "display_data"
    }
   ],
   "source": [
    "plt.figure(figsize =(15,8))\n",
    "index = 1\n",
    "for i in ['Longitude', 'Latitude','Votes','Average Cost for two']:\n",
    "    plt.subplot(2,2,index)\n",
    "    sns.regplot(zomato_data[i],zomato_data['Rating'],line_kws={'color':'black'})\n",
    "    index += 1\n",
    "    \n",
    "plt.tight_layout()\n",
    "plt.show()\n",
    "    "
   ]
  },
  {
   "cell_type": "markdown",
   "id": "8f9f3d67",
   "metadata": {},
   "source": [
    "**Inference:**\n",
    "From the above plot we can see `Votes` and `Average Cost for two` columns has correlation with Target variable."
   ]
  },
  {
   "cell_type": "markdown",
   "id": "321aa8ac",
   "metadata": {},
   "source": [
    "### e. Mulitvariate Analysis"
   ]
  },
  {
   "cell_type": "code",
   "execution_count": 19,
   "id": "d0a47516",
   "metadata": {},
   "outputs": [
    {
     "data": {
      "image/png": "[encoded data removed]",
      "text/plain": [
       "<Figure size 720x576 with 2 Axes>"
      ]
     },
     "metadata": {
      "needs_background": "light"
     },
     "output_type": "display_data"
    }
   ],
   "source": [
    "plt.figure(figsize=(10,8))\n",
    "sns.heatmap(zomato_data.corr(),annot=True,fmt='.2g',linewidths=1)\n",
    "plt.show()"
   ]
  },
  {
   "cell_type": "markdown",
   "id": "a195f089",
   "metadata": {},
   "source": [
    "**Inference:** \n",
    "- With the Target Variable Longitude and Latitude has least correlation which means they are not a significant variable to build a model and can be removed.\n"
   ]
  },
  {
   "cell_type": "markdown",
   "id": "172805dd",
   "metadata": {},
   "source": [
    "### 7. Missing Values"
   ]
  },
  {
   "cell_type": "code",
   "execution_count": 20,
   "id": "d7328ebd",
   "metadata": {},
   "outputs": [
    {
     "data": {
      "text/plain": [
       "Country Code            0\n",
       "Longitude               0\n",
       "Latitude                0\n",
       "Currency                0\n",
       "Has Table booking       0\n",
       "Has Online delivery     0\n",
       "Is delivering now       0\n",
       "Switch to order menu    0\n",
       "Price range             0\n",
       "Votes                   0\n",
       "Average Cost for two    0\n",
       "Rating                  0\n",
       "Cuisine_count           0\n",
       "dtype: int64"
      ]
     },
     "execution_count": 20,
     "metadata": {},
     "output_type": "execute_result"
    }
   ],
   "source": [
    "zomato_data.isna().sum()"
   ]
  },
  {
   "cell_type": "markdown",
   "id": "96d8f4ae",
   "metadata": {},
   "source": [
    "**Inference:**\n",
    "Bingo!!! As we can see there are no null values hence, no treatment."
   ]
  },
  {
   "cell_type": "markdown",
   "id": "950907f1",
   "metadata": {},
   "source": [
    "### 8. Outliers Treatment"
   ]
  },
  {
   "cell_type": "markdown",
   "id": "d753c3c4",
   "metadata": {},
   "source": [
    "As we have seen from the Univariate - Numerical graph `Votes` and `Average Cost for two` columns consists some outliers. Will treat them by replacing using maximum values nearest to 4000 and 50000 for columns respectivley."
   ]
  },
  {
   "cell_type": "code",
   "execution_count": 21,
   "id": "48665e55",
   "metadata": {},
   "outputs": [
    {
     "data": {
      "text/plain": [
       "7863    3986\n",
       "821     3848\n",
       "3992    3697\n",
       "3119    3591\n",
       "1861    3569\n",
       "        ... \n",
       "4801       0\n",
       "4803       0\n",
       "4805       0\n",
       "4807       0\n",
       "4784       0\n",
       "Name: Votes, Length: 9532, dtype: int64"
      ]
     },
     "execution_count": 21,
     "metadata": {},
     "output_type": "execute_result"
    }
   ],
   "source": [
    "# Finding nearest value to 4000\n",
    "zomato_data['Votes'][zomato_data['Votes']<4000].sort_values(ascending=False)\n"
   ]
  },
  {
   "cell_type": "code",
   "execution_count": 22,
   "id": "8499c9bc",
   "metadata": {},
   "outputs": [],
   "source": [
    "# Replacing all values greater than 4000 with 3986\n",
    "zomato_data['Votes'][zomato_data['Votes']>4000] = 3986"
   ]
  },
  {
   "cell_type": "code",
   "execution_count": 23,
   "id": "e65a528a",
   "metadata": {},
   "outputs": [
    {
     "data": {
      "text/plain": [
       "7543    8000\n",
       "4088    7000\n",
       "4087    6500\n",
       "7494    6000\n",
       "7538    6000\n",
       "        ... \n",
       "85         0\n",
       "87         0\n",
       "240        0\n",
       "397        0\n",
       "9242       0\n",
       "Name: Average Cost for two, Length: 9530, dtype: int64"
      ]
     },
     "execution_count": 23,
     "metadata": {},
     "output_type": "execute_result"
    }
   ],
   "source": [
    "# Finding nearest value to 50000\n",
    "zomato_data['Average Cost for two'][zomato_data['Average Cost for two']<50000].sort_values(ascending=False)"
   ]
  },
  {
   "cell_type": "code",
   "execution_count": 24,
   "id": "4373d284",
   "metadata": {},
   "outputs": [],
   "source": [
    "# Replacing all values greater than 50000 with 8000\n",
    "zomato_data['Average Cost for two'][zomato_data['Average Cost for two']>50000] = 8000"
   ]
  },
  {
   "cell_type": "code",
   "execution_count": 25,
   "id": "d5629fd5",
   "metadata": {},
   "outputs": [
    {
     "data": {
      "image/png": "[encoded data removed]",
      "text/plain": [
       "<Figure size 720x360 with 2 Axes>"
      ]
     },
     "metadata": {
      "needs_background": "light"
     },
     "output_type": "display_data"
    }
   ],
   "source": [
    "plt.figure(figsize =(10,5))\n",
    "index = 1\n",
    "for i in ['Votes','Average Cost for two']:\n",
    "    plt.subplot(1,2,index)\n",
    "    sns.distplot(zomato_data[i],kde=True,kde_kws={'color':'black'})\n",
    "    plt.xticks(rotation =90)\n",
    "    index += 1\n",
    "plt.tight_layout()\n",
    "plt.show()\n",
    "    "
   ]
  },
  {
   "cell_type": "markdown",
   "id": "ef1324e3",
   "metadata": {},
   "source": [
    "**Inference:**\n",
    "From the above plot we can see that distribution has improved and acceptable for modeling."
   ]
  },
  {
   "cell_type": "markdown",
   "id": "9e212fb4",
   "metadata": {},
   "source": [
    "### 9. Feature Selection"
   ]
  },
  {
   "cell_type": "markdown",
   "id": "2a8b3c3b",
   "metadata": {},
   "source": [
    "- **For continuous vs Target Variable.**\n",
    "\n",
    "    From Correlation matrix (Heatmap) we have seen that Longitude and Latitude has low correlation value with the target variable. Hence, removing  these two columns.\n",
    "\n"
   ]
  },
  {
   "cell_type": "markdown",
   "id": "5f75065e",
   "metadata": {},
   "source": [
    "- **For categorical vs Target Variable.**\n",
    "\n",
    "    We can use Anova Test to find significant features.\n",
    "    \n",
    "    Hypothesis for the given test:\n",
    "        H0 = There is NO relation between the given variables\n",
    "        Ha = There is a relation between the given variables "
   ]
  },
  {
   "cell_type": "code",
   "execution_count": 26,
   "id": "e7e6046d",
   "metadata": {},
   "outputs": [],
   "source": [
    "# Calculating the one-way ANOVA F-test between each categorical variable and a continuous target variable.\n",
    "def cat_target_relationship(df, cat_vars, target_var):\n",
    "    results = pd.DataFrame(columns=['F-statistic', 'p-value'])\n",
    "    for var in cat_vars:\n",
    "        groups = df.groupby(var)[target_var].apply(list)\n",
    "        f_stat, p_val = f_oneway(*groups)\n",
    "        results.loc[var] = [f_stat, p_val]\n",
    "    return results\n",
    "\n"
   ]
  },
  {
   "cell_type": "code",
   "execution_count": 27,
   "id": "b0203f53",
   "metadata": {},
   "outputs": [
    {
     "data": {
      "text/html": [
       "<div>\n",
       "<style scoped>\n",
       "    .dataframe tbody tr th:only-of-type {\n",
       "        vertical-align: middle;\n",
       "    }\n",
       "\n",
       "    .dataframe tbody tr th {\n",
       "        vertical-align: top;\n",
       "    }\n",
       "\n",
       "    .dataframe thead th {\n",
       "        text-align: right;\n",
       "    }\n",
       "</style>\n",
       "<table border=\"1\" class=\"dataframe\">\n",
       "  <thead>\n",
       "    <tr style=\"text-align: right;\">\n",
       "      <th></th>\n",
       "      <th>F-statistic</th>\n",
       "      <th>p-value</th>\n",
       "    </tr>\n",
       "  </thead>\n",
       "  <tbody>\n",
       "    <tr>\n",
       "      <th>Has Table booking</th>\n",
       "      <td>375.738730</td>\n",
       "      <td>3.939304e-82</td>\n",
       "    </tr>\n",
       "    <tr>\n",
       "      <th>Has Online delivery</th>\n",
       "      <td>425.355711</td>\n",
       "      <td>1.695259e-92</td>\n",
       "    </tr>\n",
       "    <tr>\n",
       "      <th>Price range</th>\n",
       "      <td>913.352343</td>\n",
       "      <td>0.000000e+00</td>\n",
       "    </tr>\n",
       "    <tr>\n",
       "      <th>Cuisine_count</th>\n",
       "      <td>96.168482</td>\n",
       "      <td>2.966761e-136</td>\n",
       "    </tr>\n",
       "  </tbody>\n",
       "</table>\n",
       "</div>"
      ],
      "text/plain": [
       "                     F-statistic        p-value\n",
       "Has Table booking     375.738730   3.939304e-82\n",
       "Has Online delivery   425.355711   1.695259e-92\n",
       "Price range           913.352343   0.000000e+00\n",
       "Cuisine_count          96.168482  2.966761e-136"
      ]
     },
     "execution_count": 27,
     "metadata": {},
     "output_type": "execute_result"
    }
   ],
   "source": [
    "cat_cols = ['Has Table booking', 'Has Online delivery', 'Price range','Cuisine_count']\n",
    "cat_target_relationship(zomato_data,cat_cols,'Rating')\n"
   ]
  },
  {
   "cell_type": "markdown",
   "id": "5c4163cc",
   "metadata": {},
   "source": [
    "As p_value for all the features are less than 0.5, we reject H0 and conclude that all the categorical variables are significant."
   ]
  },
  {
   "cell_type": "markdown",
   "id": "a9f1cd50",
   "metadata": {},
   "source": [
    "**Final features for Modeling**"
   ]
  },
  {
   "cell_type": "code",
   "execution_count": 28,
   "id": "235c12dd",
   "metadata": {},
   "outputs": [],
   "source": [
    "zomato_data_final = zomato_data[['Votes','Average Cost for two','Has Table booking',\n",
    "                 'Has Online delivery','Price range','Rating']]"
   ]
  },
  {
   "cell_type": "code",
   "execution_count": 29,
   "id": "3159e3b0",
   "metadata": {},
   "outputs": [
    {
     "data": {
      "text/html": [
       "<div>\n",
       "<style scoped>\n",
       "    .dataframe tbody tr th:only-of-type {\n",
       "        vertical-align: middle;\n",
       "    }\n",
       "\n",
       "    .dataframe tbody tr th {\n",
       "        vertical-align: top;\n",
       "    }\n",
       "\n",
       "    .dataframe thead th {\n",
       "        text-align: right;\n",
       "    }\n",
       "</style>\n",
       "<table border=\"1\" class=\"dataframe\">\n",
       "  <thead>\n",
       "    <tr style=\"text-align: right;\">\n",
       "      <th></th>\n",
       "      <th>Votes</th>\n",
       "      <th>Average Cost for two</th>\n",
       "      <th>Has Table booking</th>\n",
       "      <th>Has Online delivery</th>\n",
       "      <th>Price range</th>\n",
       "      <th>Rating</th>\n",
       "    </tr>\n",
       "  </thead>\n",
       "  <tbody>\n",
       "    <tr>\n",
       "      <th>0</th>\n",
       "      <td>314</td>\n",
       "      <td>1100</td>\n",
       "      <td>Yes</td>\n",
       "      <td>No</td>\n",
       "      <td>3</td>\n",
       "      <td>4.8</td>\n",
       "    </tr>\n",
       "    <tr>\n",
       "      <th>1</th>\n",
       "      <td>591</td>\n",
       "      <td>1200</td>\n",
       "      <td>Yes</td>\n",
       "      <td>No</td>\n",
       "      <td>3</td>\n",
       "      <td>4.5</td>\n",
       "    </tr>\n",
       "    <tr>\n",
       "      <th>2</th>\n",
       "      <td>270</td>\n",
       "      <td>4000</td>\n",
       "      <td>Yes</td>\n",
       "      <td>No</td>\n",
       "      <td>4</td>\n",
       "      <td>4.4</td>\n",
       "    </tr>\n",
       "    <tr>\n",
       "      <th>3</th>\n",
       "      <td>365</td>\n",
       "      <td>1500</td>\n",
       "      <td>No</td>\n",
       "      <td>No</td>\n",
       "      <td>4</td>\n",
       "      <td>4.9</td>\n",
       "    </tr>\n",
       "    <tr>\n",
       "      <th>4</th>\n",
       "      <td>229</td>\n",
       "      <td>1500</td>\n",
       "      <td>Yes</td>\n",
       "      <td>No</td>\n",
       "      <td>4</td>\n",
       "      <td>4.8</td>\n",
       "    </tr>\n",
       "  </tbody>\n",
       "</table>\n",
       "</div>"
      ],
      "text/plain": [
       "   Votes  Average Cost for two Has Table booking Has Online delivery  \\\n",
       "0    314                  1100               Yes                  No   \n",
       "1    591                  1200               Yes                  No   \n",
       "2    270                  4000               Yes                  No   \n",
       "3    365                  1500                No                  No   \n",
       "4    229                  1500               Yes                  No   \n",
       "\n",
       "   Price range  Rating  \n",
       "0            3     4.8  \n",
       "1            3     4.5  \n",
       "2            4     4.4  \n",
       "3            4     4.9  \n",
       "4            4     4.8  "
      ]
     },
     "execution_count": 29,
     "metadata": {},
     "output_type": "execute_result"
    }
   ],
   "source": [
    "zomato_data_final.head()"
   ]
  },
  {
   "cell_type": "markdown",
   "id": "a60f46f6",
   "metadata": {},
   "source": [
    "### 9. Feature Encoding and Converting datatype to numeric for ML"
   ]
  },
  {
   "cell_type": "code",
   "execution_count": 30,
   "id": "1de9916c",
   "metadata": {},
   "outputs": [],
   "source": [
    "# Converting 'Has Table booking' and 'Has Online delivery' values to numeric\n",
    "zomato_data_final['Has Online delivery'] =zomato_data_final['Has Online delivery'].map({'Yes':1,'No':0})\n",
    "zomato_data_final['Has Table booking'] =zomato_data_final['Has Table booking'].map({'Yes':1,'No':0})"
   ]
  },
  {
   "cell_type": "markdown",
   "id": "bd065d08",
   "metadata": {},
   "source": [
    "**Final dataset is ready for modeling, now will split the data into train and test set.**"
   ]
  },
  {
   "cell_type": "markdown",
   "id": "74fc4248",
   "metadata": {},
   "source": [
    "### 10. Scaling, Spliting the dataset and performing ML"
   ]
  },
  {
   "cell_type": "code",
   "execution_count": 31,
   "id": "d49a7c29",
   "metadata": {},
   "outputs": [],
   "source": [
    "X = zomato_data_final.drop('Rating',axis =1)\n",
    "y = zomato_data_final.Rating\n",
    "\n",
    "# Using StandardScaler to scale the predictors data\n",
    "ss = StandardScaler()\n",
    "X = ss.fit_transform(X)\n",
    "\n",
    "# Spliting into train and test\n",
    "X_train,X_test,y_train,y_test = train_test_split(X,y,test_size=0.3,random_state=10)"
   ]
  },
  {
   "cell_type": "markdown",
   "id": "99d0652f",
   "metadata": {},
   "source": [
    "### 11. Building the models and evaluation of performance"
   ]
  },
  {
   "cell_type": "markdown",
   "id": "6c4bb6b6",
   "metadata": {},
   "source": [
    "### Multiple Linear Regression"
   ]
  },
  {
   "cell_type": "code",
   "execution_count": 32,
   "id": "f56ef31b",
   "metadata": {},
   "outputs": [
    {
     "name": "stdout",
     "output_type": "stream",
     "text": [
      "R2_score on training:  0.3061\n",
      "R2_score on testing:  0.2957\n"
     ]
    }
   ],
   "source": [
    "# Building Linear Regression Model\n",
    "linreg = LinearRegression()\n",
    "linreg_model = linreg.fit(X_train,y_train)\n",
    "\n",
    "y_train_pred = linreg_model.predict(X_train)\n",
    "y_test_pred = linreg_model.predict(X_test)\n",
    "\n",
    "print(\"R2_score on training: \",(np.round(metrics.r2_score(y_train,y_train_pred),4)))\n",
    "print(\"R2_score on testing: \",(np.round(metrics.r2_score(y_test,y_test_pred),4)))\n"
   ]
  },
  {
   "cell_type": "code",
   "execution_count": 33,
   "id": "c6544740",
   "metadata": {},
   "outputs": [
    {
     "name": "stdout",
     "output_type": "stream",
     "text": [
      "MSE for Train data: 0.8901\n",
      "RMSE for Train data: 0.9434\n",
      "\n",
      "MSE for Test data: 0.8834\n",
      "RMSE for Test data: 0.9399\n"
     ]
    }
   ],
   "source": [
    "# On training\n",
    "mse = round(metrics.mean_squared_error(y_train,y_train_pred),4)\n",
    "rmse = round(np.sqrt(metrics.mean_squared_error(y_train,y_train_pred)),4)\n",
    "print(f'MSE for Train data: {mse}')\n",
    "print(f'RMSE for Train data: {rmse}')\n",
    "\n",
    "# On test data\n",
    "mse = round(metrics.mean_squared_error(y_test,y_test_pred),4)\n",
    "rmse = round(np.sqrt(metrics.mean_squared_error(y_test,y_test_pred)),4)\n",
    "print(f'\\nMSE for Test data: {mse}')\n",
    "print(f'RMSE for Test data: {rmse}')"
   ]
  },
  {
   "cell_type": "markdown",
   "id": "4be71c5d",
   "metadata": {},
   "source": [
    "### KNN"
   ]
  },
  {
   "cell_type": "code",
   "execution_count": 34,
   "id": "ae381c44",
   "metadata": {},
   "outputs": [
    {
     "name": "stdout",
     "output_type": "stream",
     "text": [
      "R2_score on training:  0.9367\n",
      "R2_score on testing:  0.8663\n"
     ]
    }
   ],
   "source": [
    "# Building KNN Model\n",
    "knn = KNeighborsRegressor(n_neighbors=3,metric='euclidean')\n",
    "knn_model = knn.fit(X_train,y_train)\n",
    "\n",
    "y_train_pred = knn_model.predict(X_train)\n",
    "y_test_pred = knn_model.predict(X_test)\n",
    "\n",
    "print(\"R2_score on training: \",(np.round(metrics.r2_score(y_train,y_train_pred),4)))\n",
    "print(\"R2_score on testing: \",(np.round(metrics.r2_score(y_test,y_test_pred),4)))\n"
   ]
  },
  {
   "cell_type": "code",
   "execution_count": 35,
   "id": "501b911b",
   "metadata": {
    "scrolled": true
   },
   "outputs": [
    {
     "name": "stdout",
     "output_type": "stream",
     "text": [
      "MSE for Train data: 0.0811\n",
      "RMSE for Train data: 0.2848\n",
      "\n",
      "MSE for Test data: 0.1677\n",
      "RMSE for Test data: 0.4095\n"
     ]
    }
   ],
   "source": [
    "# On training\n",
    "mse = round(metrics.mean_squared_error(y_train,y_train_pred),4)\n",
    "rmse = round(np.sqrt(metrics.mean_squared_error(y_train,y_train_pred)),4)\n",
    "print(f'MSE for Train data: {mse}')\n",
    "print(f'RMSE for Train data: {rmse}')\n",
    "\n",
    "# On test data\n",
    "mse = round(metrics.mean_squared_error(y_test,y_test_pred),4)\n",
    "rmse = round(np.sqrt(metrics.mean_squared_error(y_test,y_test_pred)),4)\n",
    "print(f'\\nMSE for Test data: {mse}')\n",
    "print(f'RMSE for Test data: {rmse}')"
   ]
  },
  {
   "cell_type": "markdown",
   "id": "bdda3088",
   "metadata": {},
   "source": [
    "### Decision Tree"
   ]
  },
  {
   "cell_type": "code",
   "execution_count": 36,
   "id": "f7760b4b",
   "metadata": {},
   "outputs": [
    {
     "name": "stdout",
     "output_type": "stream",
     "text": [
      "R2_score on training:  0.9114\n",
      "R2_score on testing:  0.9026\n"
     ]
    }
   ],
   "source": [
    "# Building KNN Model\n",
    "dt = DecisionTreeRegressor(max_depth=6,criterion='mse')\n",
    "dt_model = dt.fit(X_train,y_train)\n",
    "\n",
    "y_train_pred = dt_model.predict(X_train)\n",
    "y_test_pred = dt_model.predict(X_test)\n",
    "\n",
    "print(\"R2_score on training: \",(np.round(metrics.r2_score(y_train,y_train_pred),4)))\n",
    "print(\"R2_score on testing: \",(np.round(metrics.r2_score(y_test,y_test_pred),4)))\n"
   ]
  },
  {
   "cell_type": "code",
   "execution_count": 37,
   "id": "bf3e20a0",
   "metadata": {
    "scrolled": false
   },
   "outputs": [
    {
     "name": "stdout",
     "output_type": "stream",
     "text": [
      "MSE for Train data: 0.1136\n",
      "RMSE for Train data: 0.3371\n",
      "\n",
      "MSE for Test data: 0.1222\n",
      "RMSE for Test data: 0.3495\n"
     ]
    }
   ],
   "source": [
    "# On training\n",
    "mse = round(metrics.mean_squared_error(y_train,y_train_pred),4)\n",
    "rmse = round(np.sqrt(metrics.mean_squared_error(y_train,y_train_pred)),4)\n",
    "print(f'MSE for Train data: {mse}')\n",
    "print(f'RMSE for Train data: {rmse}')\n",
    "\n",
    "# On test data\n",
    "mse = round(metrics.mean_squared_error(y_test,y_test_pred),4)\n",
    "rmse = round(np.sqrt(metrics.mean_squared_error(y_test,y_test_pred)),4)\n",
    "print(f'\\nMSE for Test data: {mse}')\n",
    "print(f'RMSE for Test data: {rmse}')"
   ]
  },
  {
   "cell_type": "markdown",
   "id": "ebb4f662",
   "metadata": {},
   "source": [
    "### Random Forest"
   ]
  },
  {
   "cell_type": "code",
   "execution_count": 38,
   "id": "cc5a9a1c",
   "metadata": {},
   "outputs": [
    {
     "name": "stdout",
     "output_type": "stream",
     "text": [
      "R2_score on training:  0.8813\n",
      "R2_score on testing:  0.8726\n"
     ]
    }
   ],
   "source": [
    "# Building KNN Model\n",
    "rf = RandomForestRegressor(max_depth=2, n_estimators=400,criterion='mse')\n",
    "rf_model = rf.fit(X_train,y_train)\n",
    "\n",
    "y_train_pred = rf_model.predict(X_train)\n",
    "y_test_pred = rf_model.predict(X_test)\n",
    "\n",
    "print(\"R2_score on training: \",(np.round(metrics.r2_score(y_train,y_train_pred),4)))\n",
    "print(\"R2_score on testing: \",(np.round(metrics.r2_score(y_test,y_test_pred),4)))\n"
   ]
  },
  {
   "cell_type": "code",
   "execution_count": 39,
   "id": "1bb8d19a",
   "metadata": {
    "scrolled": true
   },
   "outputs": [
    {
     "name": "stdout",
     "output_type": "stream",
     "text": [
      "MSE for Train data: 0.1523\n",
      "RMSE for Train data: 0.3902\n",
      "\n",
      "MSE for Test data: 0.1598\n",
      "RMSE for Test data: 0.3998\n"
     ]
    }
   ],
   "source": [
    "# On training\n",
    "mse = round(metrics.mean_squared_error(y_train,y_train_pred),4)\n",
    "rmse = round(np.sqrt(metrics.mean_squared_error(y_train,y_train_pred)),4)\n",
    "print(f'MSE for Train data: {mse}')\n",
    "print(f'RMSE for Train data: {rmse}')\n",
    "\n",
    "# On test data\n",
    "mse = round(metrics.mean_squared_error(y_test,y_test_pred),4)\n",
    "rmse = round(np.sqrt(metrics.mean_squared_error(y_test,y_test_pred)),4)\n",
    "print(f'\\nMSE for Test data: {mse}')\n",
    "print(f'RMSE for Test data: {rmse}')"
   ]
  },
  {
   "cell_type": "markdown",
   "id": "4db33e21",
   "metadata": {},
   "source": [
    "### AdaBoost"
   ]
  },
  {
   "cell_type": "code",
   "execution_count": 40,
   "id": "36fca7ac",
   "metadata": {},
   "outputs": [
    {
     "name": "stdout",
     "output_type": "stream",
     "text": [
      "R2_score on training:  0.8945\n",
      "R2_score on testing:  0.8875\n"
     ]
    }
   ],
   "source": [
    "# Building KNN Model\n",
    "DTR = DecisionTreeRegressor(max_depth=3)\n",
    "abr = AdaBoostRegressor(n_estimators=500, base_estimator=DTR,learning_rate=0.04)\n",
    "abr_model = abr.fit(X_train,y_train)\n",
    "\n",
    "y_train_pred = abr_model.predict(X_train)\n",
    "y_test_pred = abr_model.predict(X_test)\n",
    "\n",
    "print(\"R2_score on training: \",(np.round(metrics.r2_score(y_train,y_train_pred),4)))\n",
    "print(\"R2_score on testing: \",(np.round(metrics.r2_score(y_test,y_test_pred),4)))\n"
   ]
  },
  {
   "cell_type": "code",
   "execution_count": 41,
   "id": "3f938b54",
   "metadata": {
    "scrolled": true
   },
   "outputs": [
    {
     "name": "stdout",
     "output_type": "stream",
     "text": [
      "MSE for Train data: 0.1354\n",
      "RMSE for Train data: 0.3679\n",
      "\n",
      "MSE for Test data: 0.1412\n",
      "RMSE for Test data: 0.3757\n"
     ]
    }
   ],
   "source": [
    "# On training\n",
    "mse = round(metrics.mean_squared_error(y_train,y_train_pred),4)\n",
    "rmse = round(np.sqrt(metrics.mean_squared_error(y_train,y_train_pred)),4)\n",
    "print(f'MSE for Train data: {mse}')\n",
    "print(f'RMSE for Train data: {rmse}')\n",
    "\n",
    "# On test data\n",
    "mse = round(metrics.mean_squared_error(y_test,y_test_pred),4)\n",
    "rmse = round(np.sqrt(metrics.mean_squared_error(y_test,y_test_pred)),4)\n",
    "print(f'\\nMSE for Test data: {mse}')\n",
    "print(f'RMSE for Test data: {rmse}')"
   ]
  },
  {
   "cell_type": "markdown",
   "id": "cf52d4e2",
   "metadata": {},
   "source": [
    "### XGBoost"
   ]
  },
  {
   "cell_type": "code",
   "execution_count": 42,
   "id": "4f6ed7f9",
   "metadata": {},
   "outputs": [
    {
     "name": "stdout",
     "output_type": "stream",
     "text": [
      "R2_score on training:  0.9301\n",
      "R2_score on testing:  0.9062\n"
     ]
    }
   ],
   "source": [
    "# Building KNN Model\n",
    "xgb = XGBRegressor(max_depth=2,n_estimators=1000)\n",
    "xgb_model = xgb.fit(X_train,y_train)\n",
    "\n",
    "y_train_pred = xgb_model.predict(X_train)\n",
    "y_test_pred = xgb_model.predict(X_test)\n",
    "\n",
    "print(\"R2_score on training: \",(np.round(metrics.r2_score(y_train,y_train_pred),4)))\n",
    "print(\"R2_score on testing: \",(np.round(metrics.r2_score(y_test,y_test_pred),4)))\n"
   ]
  },
  {
   "cell_type": "code",
   "execution_count": 43,
   "id": "5a833d31",
   "metadata": {
    "scrolled": true
   },
   "outputs": [
    {
     "name": "stdout",
     "output_type": "stream",
     "text": [
      "MSE for Train data: 0.0897\n",
      "RMSE for Train data: 0.2994\n",
      "\n",
      "MSE for Test data: 0.1176\n",
      "RMSE for Test data: 0.343\n"
     ]
    }
   ],
   "source": [
    "# On training\n",
    "mse = round(metrics.mean_squared_error(y_train,y_train_pred),4)\n",
    "rmse = round(np.sqrt(metrics.mean_squared_error(y_train,y_train_pred)),4)\n",
    "print(f'MSE for Train data: {mse}')\n",
    "print(f'RMSE for Train data: {rmse}')\n",
    "\n",
    "# On test data\n",
    "mse = round(metrics.mean_squared_error(y_test,y_test_pred),4)\n",
    "rmse = round(np.sqrt(metrics.mean_squared_error(y_test,y_test_pred)),4)\n",
    "print(f'\\nMSE for Test data: {mse}')\n",
    "print(f'RMSE for Test data: {rmse}')"
   ]
  },
  {
   "cell_type": "markdown",
   "id": "716a3794",
   "metadata": {},
   "source": [
    "**In conclusion Decision Tree is performing better among all tested models for the given dataset and can be used for deployment.**"
   ]
  },
  {
   "cell_type": "code",
   "execution_count": null,
   "id": "f04e1f45",
   "metadata": {},
   "outputs": [],
   "source": []
  }
 ],
 "metadata": {
  "kernelspec": {
   "display_name": "Python 3 (ipykernel)",
   "language": "python",
   "name": "python3"
  },
  "language_info": {
   "codemirror_mode": {
    "name": "ipython",
    "version": 3
   },
   "file_extension": ".py",
   "mimetype": "text/x-python",
   "name": "python",
   "nbconvert_exporter": "python",
   "pygments_lexer": "ipython3",
   "version": "3.9.7"
  }
 },
 "nbformat": 4,
 "nbformat_minor": 5
}
